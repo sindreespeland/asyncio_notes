{
 "cells": [
  {
   "cell_type": "markdown",
   "id": "d021e413",
   "metadata": {},
   "source": [
    "# Asyncio notes\n",
    "\n",
    "Asyncio is a python library for writing curncurrent code using the async await syntax.\n",
    "\n",
    "---\n",
    "\n",
    "### What is concurrency?\n",
    "\n",
    "With syncrounous code one thing happens after another.\n",
    "\n",
    "**Sync Code Analogy**\n",
    "\n",
    "Going to a subway resturant where you put in your order and they make your entire sandwich before they move on to the next customer.\n",
    "\n",
    "**Async Code Anology**\n",
    "\n",
    "But with concurrent code it is more like going to a MC Donalds where they take your order and then moved on to the next customer while your food is being made in the background.\n",
    "\n",
    "With this difference, when applied to code, it can be a bit confusing for most people starting out with async programming.\n",
    "A key take away here is that async does not inherently mean fast execution. It just means that we can do other usefull work, instead of sitting idelly by while waiting for things like network requests or database operations to finish (i/o bound operhations, hence IO in asyncIO)\n",
    "\n",
    "### I/O bound tasks\n",
    "I/O bound operations are when your program is waiting for anything external\n",
    "\n",
    "---\n",
    "\n",
    "Now asyncio in python is single-threaded and runs on a single process. It uses something called `cooperative multitasking` where tasks voluntarily give up control.\n",
    "For CPU bound tasks that need heavy computation you would want to use processes instead (we will see an example of this later in this note)\n",
    "\n",
    "We will also see the difference between i/o bound and cpu bound operations later in this tutorial"
   ]
  },
  {
   "cell_type": "markdown",
   "id": "095ed0e8",
   "metadata": {},
   "source": [
    "## Terms"
   ]
  },
  {
   "cell_type": "code",
   "execution_count": null,
   "id": "9b2d769a",
   "metadata": {},
   "outputs": [],
   "source": [
    "import time"
   ]
  },
  {
   "cell_type": "code",
   "execution_count": null,
   "id": "03424f36",
   "metadata": {},
   "outputs": [],
   "source": [
    "def sync_func(param: str) -> str:\n",
    "    print(\"This is a synchronous function\")\n",
    "\n",
    "    time.sleep(0.5)\n",
    "\n",
    "    return f\"Result from: {param}\""
   ]
  },
  {
   "cell_type": "markdown",
   "id": "4529bea8",
   "metadata": {},
   "source": [
    "You can see that our main function is asynchrounous. Since it is an async function, we cannot call it directly.\n",
    "\n",
    "But since we are in jupiter notebook, we already have an event loop running. Which means we can directly await main()\n",
    "\n",
    "If this was a normal python script, we would need to call the main async function like this\n",
    "\n",
    "```python\n",
    "if __name__ == \"__main__\":\n",
    "    asyncio.run(main())\n",
    "```\n",
    "\n",
    "It needs to be called in an async context to start en `event-loop`.\n",
    "\n",
    "The event loop is basically the engine that runs and managed asynchronous functions\n",
    "\n",
    "You can think of it as a scheduler. It keeps track of all our tasks and when a task is `suspended` because it is waiting for something else, the control returns to the event loop which then spawns another task to either start or resume.\n",
    "\n",
    "So we have to be running an event-loop to be able to run any of asynchronous code.\n",
    "\n",
    "Lastly it closes down the event-loop when the whole main function is done."
   ]
  },
  {
   "cell_type": "code",
   "execution_count": 4,
   "id": "c35715ec",
   "metadata": {},
   "outputs": [],
   "source": [
    "async def main():\n",
    "    sync_result = sync_func(\"sync_func\")\n",
    "    print(sync_result)"
   ]
  },
  {
   "cell_type": "code",
   "execution_count": 8,
   "id": "5dacbb7c",
   "metadata": {},
   "outputs": [
    {
     "name": "stdout",
     "output_type": "stream",
     "text": [
      "This is a synchronous function\n",
      "Result from sync_func\n"
     ]
    }
   ],
   "source": [
    "await main()"
   ]
  },
  {
   "cell_type": "markdown",
   "id": "bd0b7699",
   "metadata": {},
   "source": [
    "---"
   ]
  },
  {
   "cell_type": "markdown",
   "id": "eeba0fe7",
   "metadata": {},
   "source": [
    "But it does not make sense just running synchronous code inside of our event-loop. WE want to be taking advantage of concurrency in any event-loop"
   ]
  },
  {
   "cell_type": "markdown",
   "id": "dc3e1f6a",
   "metadata": {},
   "source": [
    "### Awaitables\n",
    "In the code snippet below you can see that we are using this `await` keyword.\n",
    "\n",
    "Awaitables are objects that implement a special `__await__()` under the hood. await is everywhere in async code.\n",
    "\n",
    "An object has to be awaitable for use to be able to use that keyword (`await`) on it.\n",
    "\n",
    "**Why can`t we a await a synchnous function ?**\n",
    "\n",
    "Synchonous libraries dont have a mechanism to work with the event-loop. They dont know how to yield control over and resume later.\n",
    "\n",
    "\n",
    "Also to be able to use the `await` key-word, we also have to be within a async function (`async def`)\n",
    "\n",
    "### What happens when we await?\n",
    "When you await something you are basically telling the event loop to pause the execution of the current function and yield control back to the event-loop.\n",
    "\n",
    "Which can then run another task. It will stay suspended until the awaitbale you awaited, completes.\n",
    "\n",
    "\n",
    "### Types of awaitables\n",
    "In python there are three types of awiatbale objects:\n",
    "- **Coroutines**: Which are created when you simply call an async function\n",
    "- **Tasks**: Which are wrappers around a coroutine that are immediatly scheduled on the event loop\n",
    "- **Futures**: Which are low level objects representing eventual results\n",
    "\n",
    "Futures might be a bit hard to understand. So if you for example come from the javascript world, futures are a lot like promises. It is the promise of a result that will be available later.\n",
    "\n",
    "But in python we almost never work with futures directly. WE write coroutines and when we schedule them as tasks, asyncio uses futures under the hood to track those results. So don`t pay to much attention to understanding futures and how to use them. \n",
    "\n",
    "What is most important to understand is coroutines and tasks. You would only be using futures directly if you where building som very low level asyncio code. For example if you where building an asyncio compaitble library\n",
    "\n",
    "---\n"
   ]
  },
  {
   "cell_type": "markdown",
   "id": "308abd5d",
   "metadata": {},
   "source": [
    "But just to show how they look like we can run the code snippet below.\n",
    "\n",
    "A futures job is to hold a certain state and result. The result can be pending, meaning the future does not have any result or exception yet\n",
    "\n"
   ]
  },
  {
   "cell_type": "code",
   "execution_count": 11,
   "id": "9fef0fbe",
   "metadata": {},
   "outputs": [
    {
     "name": "stdout",
     "output_type": "stream",
     "text": [
      "Empty future: <Future pending>\n",
      "Future result: <Future pending>\n"
     ]
    }
   ],
   "source": [
    "import asyncio\n",
    "\n",
    "async def main():\n",
    "    loop = asyncio.get_running_loop()\n",
    "    future = loop.create_future()\n",
    "    print(f\"Empty future: {future}\")\n",
    "\n",
    "    future.set_result(f\"Future result: {future}\")\n",
    "    future_result = await future\n",
    "    print(future_result)\n",
    "\n",
    "await main()"
   ]
  },
  {
   "cell_type": "markdown",
   "id": "4997a640",
   "metadata": {},
   "source": [
    "Ref:\n",
    "- [video](https://www.youtube.com/watch?v=oAkLSJNr5zY&t=3395s)"
   ]
  }
 ],
 "metadata": {
  "kernelspec": {
   "display_name": ".venv",
   "language": "python",
   "name": "python3"
  },
  "language_info": {
   "codemirror_mode": {
    "name": "ipython",
    "version": 3
   },
   "file_extension": ".py",
   "mimetype": "text/x-python",
   "name": "python",
   "nbconvert_exporter": "python",
   "pygments_lexer": "ipython3",
   "version": "3.11.9"
  }
 },
 "nbformat": 4,
 "nbformat_minor": 5
}
